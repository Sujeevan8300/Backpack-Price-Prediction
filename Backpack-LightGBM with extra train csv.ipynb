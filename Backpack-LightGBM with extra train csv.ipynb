{
 "cells": [
  {
   "cell_type": "markdown",
   "id": "1a15df9c-a8f4-443a-b3e6-f5c50b553638",
   "metadata": {},
   "source": [
    "# 1. Exploratory Data Analysis (EDA)"
   ]
  },
  {
   "cell_type": "code",
   "execution_count": 2,
   "id": "65c5b89f-861c-44c0-8620-633074743bee",
   "metadata": {},
   "outputs": [],
   "source": [
    "import numpy as np # linear algebra\n",
    "import pandas as pd # data processing, \n",
    "import os\n",
    "\n",
    "from sklearn.preprocessing import OrdinalEncoder\n",
    "from sklearn.model_selection import train_test_split\n",
    "\n",
    "import pylab \n",
    "import scipy.stats as stats"
   ]
  },
  {
   "cell_type": "code",
   "execution_count": 3,
   "id": "e5bea1bb-f1e1-491e-b31c-e9b16e2fc004",
   "metadata": {},
   "outputs": [],
   "source": [
    "# Load dataset files\n",
    "train = pd.read_csv('train.csv')\n",
    "train_extra = pd.read_csv(\"training_extra.csv\")\n",
    "\n",
    "test = pd.read_csv('test.csv')\n",
    "\n",
    "submission = pd.read_csv('sample_submission.csv')"
   ]
  },
  {
   "cell_type": "code",
   "execution_count": 4,
   "id": "ae2d9a70-f7a9-4fde-959d-6011256ce037",
   "metadata": {},
   "outputs": [
    {
     "name": "stdout",
     "output_type": "stream",
     "text": [
      "Shape before removing missing values: (3694318, 11)\n",
      "Shape after removing missing values: (3041817, 11)\n"
     ]
    }
   ],
   "source": [
    "print(\"Shape before removing missing values:\", train_extra.shape)\n",
    "train_extra.dropna(inplace=True)\n",
    "print(\"Shape after removing missing values:\", train_extra.shape)"
   ]
  },
  {
   "cell_type": "code",
   "execution_count": 5,
   "id": "1b0bfe7c-ba3b-4159-956d-fdd2f6ddb020",
   "metadata": {},
   "outputs": [],
   "source": [
    "# Merge additional training data\n",
    "train = pd.concat([train, train_extra], ignore_index=True)"
   ]
  },
  {
   "cell_type": "code",
   "execution_count": 6,
   "id": "eab6a40f-9714-479a-b6e5-2360c449001a",
   "metadata": {},
   "outputs": [
    {
     "name": "stdout",
     "output_type": "stream",
     "text": [
      "<class 'pandas.core.frame.DataFrame'>\n",
      "RangeIndex: 3341817 entries, 0 to 3341816\n",
      "Data columns (total 11 columns):\n",
      " #   Column                Dtype  \n",
      "---  ------                -----  \n",
      " 0   id                    int64  \n",
      " 1   Brand                 object \n",
      " 2   Material              object \n",
      " 3   Size                  object \n",
      " 4   Compartments          float64\n",
      " 5   Laptop Compartment    object \n",
      " 6   Waterproof            object \n",
      " 7   Style                 object \n",
      " 8   Color                 object \n",
      " 9   Weight Capacity (kg)  float64\n",
      " 10  Price                 float64\n",
      "dtypes: float64(3), int64(1), object(7)\n",
      "memory usage: 280.5+ MB\n"
     ]
    },
    {
     "data": {
      "text/html": [
       "<div>\n",
       "<style scoped>\n",
       "    .dataframe tbody tr th:only-of-type {\n",
       "        vertical-align: middle;\n",
       "    }\n",
       "\n",
       "    .dataframe tbody tr th {\n",
       "        vertical-align: top;\n",
       "    }\n",
       "\n",
       "    .dataframe thead th {\n",
       "        text-align: right;\n",
       "    }\n",
       "</style>\n",
       "<table border=\"1\" class=\"dataframe\">\n",
       "  <thead>\n",
       "    <tr style=\"text-align: right;\">\n",
       "      <th></th>\n",
       "      <th>id</th>\n",
       "      <th>Brand</th>\n",
       "      <th>Material</th>\n",
       "      <th>Size</th>\n",
       "      <th>Compartments</th>\n",
       "      <th>Laptop Compartment</th>\n",
       "      <th>Waterproof</th>\n",
       "      <th>Style</th>\n",
       "      <th>Color</th>\n",
       "      <th>Weight Capacity (kg)</th>\n",
       "      <th>Price</th>\n",
       "    </tr>\n",
       "  </thead>\n",
       "  <tbody>\n",
       "    <tr>\n",
       "      <th>0</th>\n",
       "      <td>0</td>\n",
       "      <td>Jansport</td>\n",
       "      <td>Leather</td>\n",
       "      <td>Medium</td>\n",
       "      <td>7.0</td>\n",
       "      <td>Yes</td>\n",
       "      <td>No</td>\n",
       "      <td>Tote</td>\n",
       "      <td>Black</td>\n",
       "      <td>11.611723</td>\n",
       "      <td>112.15875</td>\n",
       "    </tr>\n",
       "    <tr>\n",
       "      <th>1</th>\n",
       "      <td>1</td>\n",
       "      <td>Jansport</td>\n",
       "      <td>Canvas</td>\n",
       "      <td>Small</td>\n",
       "      <td>10.0</td>\n",
       "      <td>Yes</td>\n",
       "      <td>Yes</td>\n",
       "      <td>Messenger</td>\n",
       "      <td>Green</td>\n",
       "      <td>27.078537</td>\n",
       "      <td>68.88056</td>\n",
       "    </tr>\n",
       "    <tr>\n",
       "      <th>2</th>\n",
       "      <td>2</td>\n",
       "      <td>Under Armour</td>\n",
       "      <td>Leather</td>\n",
       "      <td>Small</td>\n",
       "      <td>2.0</td>\n",
       "      <td>Yes</td>\n",
       "      <td>No</td>\n",
       "      <td>Messenger</td>\n",
       "      <td>Red</td>\n",
       "      <td>16.643760</td>\n",
       "      <td>39.17320</td>\n",
       "    </tr>\n",
       "    <tr>\n",
       "      <th>3</th>\n",
       "      <td>3</td>\n",
       "      <td>Nike</td>\n",
       "      <td>Nylon</td>\n",
       "      <td>Small</td>\n",
       "      <td>8.0</td>\n",
       "      <td>Yes</td>\n",
       "      <td>No</td>\n",
       "      <td>Messenger</td>\n",
       "      <td>Green</td>\n",
       "      <td>12.937220</td>\n",
       "      <td>80.60793</td>\n",
       "    </tr>\n",
       "    <tr>\n",
       "      <th>4</th>\n",
       "      <td>4</td>\n",
       "      <td>Adidas</td>\n",
       "      <td>Canvas</td>\n",
       "      <td>Medium</td>\n",
       "      <td>1.0</td>\n",
       "      <td>Yes</td>\n",
       "      <td>Yes</td>\n",
       "      <td>Messenger</td>\n",
       "      <td>Green</td>\n",
       "      <td>17.749338</td>\n",
       "      <td>86.02312</td>\n",
       "    </tr>\n",
       "  </tbody>\n",
       "</table>\n",
       "</div>"
      ],
      "text/plain": [
       "   id         Brand Material    Size  Compartments Laptop Compartment  \\\n",
       "0   0      Jansport  Leather  Medium           7.0                Yes   \n",
       "1   1      Jansport   Canvas   Small          10.0                Yes   \n",
       "2   2  Under Armour  Leather   Small           2.0                Yes   \n",
       "3   3          Nike    Nylon   Small           8.0                Yes   \n",
       "4   4        Adidas   Canvas  Medium           1.0                Yes   \n",
       "\n",
       "  Waterproof      Style  Color  Weight Capacity (kg)      Price  \n",
       "0         No       Tote  Black             11.611723  112.15875  \n",
       "1        Yes  Messenger  Green             27.078537   68.88056  \n",
       "2         No  Messenger    Red             16.643760   39.17320  \n",
       "3         No  Messenger  Green             12.937220   80.60793  \n",
       "4        Yes  Messenger  Green             17.749338   86.02312  "
      ]
     },
     "execution_count": 6,
     "metadata": {},
     "output_type": "execute_result"
    }
   ],
   "source": [
    "# Display dataset info\n",
    "train.info()\n",
    "train.head()"
   ]
  },
  {
   "cell_type": "code",
   "execution_count": 7,
   "id": "4d4e9a16-3350-4efd-b53c-cf8d6fc5134e",
   "metadata": {},
   "outputs": [
    {
     "data": {
      "text/html": [
       "<div>\n",
       "<style scoped>\n",
       "    .dataframe tbody tr th:only-of-type {\n",
       "        vertical-align: middle;\n",
       "    }\n",
       "\n",
       "    .dataframe tbody tr th {\n",
       "        vertical-align: top;\n",
       "    }\n",
       "\n",
       "    .dataframe thead th {\n",
       "        text-align: right;\n",
       "    }\n",
       "</style>\n",
       "<table border=\"1\" class=\"dataframe\">\n",
       "  <thead>\n",
       "    <tr style=\"text-align: right;\">\n",
       "      <th></th>\n",
       "      <th>id</th>\n",
       "      <th>Compartments</th>\n",
       "      <th>Weight Capacity (kg)</th>\n",
       "      <th>Price</th>\n",
       "    </tr>\n",
       "  </thead>\n",
       "  <tbody>\n",
       "    <tr>\n",
       "      <th>count</th>\n",
       "      <td>3.341817e+06</td>\n",
       "      <td>3.341817e+06</td>\n",
       "      <td>3.341679e+06</td>\n",
       "      <td>3.341817e+06</td>\n",
       "    </tr>\n",
       "    <tr>\n",
       "      <th>mean</th>\n",
       "      <td>2.150308e+06</td>\n",
       "      <td>5.440901e+00</td>\n",
       "      <td>1.799871e+01</td>\n",
       "      <td>8.147703e+01</td>\n",
       "    </tr>\n",
       "    <tr>\n",
       "      <th>std</th>\n",
       "      <td>1.196026e+06</td>\n",
       "      <td>2.889168e+00</td>\n",
       "      <td>6.968061e+00</td>\n",
       "      <td>3.883295e+01</td>\n",
       "    </tr>\n",
       "    <tr>\n",
       "      <th>min</th>\n",
       "      <td>0.000000e+00</td>\n",
       "      <td>1.000000e+00</td>\n",
       "      <td>5.000000e+00</td>\n",
       "      <td>1.500000e+01</td>\n",
       "    </tr>\n",
       "    <tr>\n",
       "      <th>25%</th>\n",
       "      <td>1.150705e+06</td>\n",
       "      <td>3.000000e+00</td>\n",
       "      <td>1.205849e+01</td>\n",
       "      <td>4.777029e+01</td>\n",
       "    </tr>\n",
       "    <tr>\n",
       "      <th>50%</th>\n",
       "      <td>2.165558e+06</td>\n",
       "      <td>5.000000e+00</td>\n",
       "      <td>1.802952e+01</td>\n",
       "      <td>8.115334e+01</td>\n",
       "    </tr>\n",
       "    <tr>\n",
       "      <th>75%</th>\n",
       "      <td>3.180235e+06</td>\n",
       "      <td>8.000000e+00</td>\n",
       "      <td>2.397621e+01</td>\n",
       "      <td>1.148065e+02</td>\n",
       "    </tr>\n",
       "    <tr>\n",
       "      <th>max</th>\n",
       "      <td>4.194317e+06</td>\n",
       "      <td>1.000000e+01</td>\n",
       "      <td>3.000000e+01</td>\n",
       "      <td>1.500000e+02</td>\n",
       "    </tr>\n",
       "  </tbody>\n",
       "</table>\n",
       "</div>"
      ],
      "text/plain": [
       "                 id  Compartments  Weight Capacity (kg)         Price\n",
       "count  3.341817e+06  3.341817e+06          3.341679e+06  3.341817e+06\n",
       "mean   2.150308e+06  5.440901e+00          1.799871e+01  8.147703e+01\n",
       "std    1.196026e+06  2.889168e+00          6.968061e+00  3.883295e+01\n",
       "min    0.000000e+00  1.000000e+00          5.000000e+00  1.500000e+01\n",
       "25%    1.150705e+06  3.000000e+00          1.205849e+01  4.777029e+01\n",
       "50%    2.165558e+06  5.000000e+00          1.802952e+01  8.115334e+01\n",
       "75%    3.180235e+06  8.000000e+00          2.397621e+01  1.148065e+02\n",
       "max    4.194317e+06  1.000000e+01          3.000000e+01  1.500000e+02"
      ]
     },
     "execution_count": 7,
     "metadata": {},
     "output_type": "execute_result"
    }
   ],
   "source": [
    "train.describe()"
   ]
  },
  {
   "cell_type": "code",
   "execution_count": 8,
   "id": "7ee64115-615d-4bdf-83af-acef4476e3d4",
   "metadata": {},
   "outputs": [
    {
     "data": {
      "text/plain": [
       "id                         0\n",
       "Brand                   9705\n",
       "Material                8347\n",
       "Size                    6595\n",
       "Compartments               0\n",
       "Laptop Compartment      7444\n",
       "Waterproof              7050\n",
       "Style                   7970\n",
       "Color                   9950\n",
       "Weight Capacity (kg)     138\n",
       "Price                      0\n",
       "dtype: int64"
      ]
     },
     "execution_count": 8,
     "metadata": {},
     "output_type": "execute_result"
    }
   ],
   "source": [
    "train.isna().sum()"
   ]
  },
  {
   "cell_type": "raw",
   "id": "b4215747-2451-49df-8234-c2c27838a1dc",
   "metadata": {},
   "source": [
    "◽️ Several categorical features have missing values.\n",
    "◽️ We will remove rows containing missing values for analysis."
   ]
  },
  {
   "cell_type": "code",
   "execution_count": 9,
   "id": "58f56ef8-4112-40b5-8ac2-fab48d503edb",
   "metadata": {},
   "outputs": [
    {
     "name": "stdout",
     "output_type": "stream",
     "text": [
      "Dataset shape after dropping missing values: (3288503, 11)\n"
     ]
    }
   ],
   "source": [
    "train.dropna(inplace=True)\n",
    "print(\"Dataset shape after dropping missing values:\", train.shape)"
   ]
  },
  {
   "cell_type": "code",
   "execution_count": 10,
   "id": "edfd4d90-4a60-4004-b090-73bf472a7dab",
   "metadata": {},
   "outputs": [
    {
     "data": {
      "text/plain": [
       "id                      0\n",
       "Brand                   0\n",
       "Material                0\n",
       "Size                    0\n",
       "Compartments            0\n",
       "Laptop Compartment      0\n",
       "Waterproof              0\n",
       "Style                   0\n",
       "Color                   0\n",
       "Weight Capacity (kg)    0\n",
       "Price                   0\n",
       "dtype: int64"
      ]
     },
     "execution_count": 10,
     "metadata": {},
     "output_type": "execute_result"
    }
   ],
   "source": [
    "train.isna().sum()"
   ]
  },
  {
   "cell_type": "code",
   "execution_count": 11,
   "id": "09cb57e0-b5f0-494c-a536-0c5ffb0d0c50",
   "metadata": {},
   "outputs": [
    {
     "data": {
      "text/plain": [
       "((3288503, 10), (200000, 10))"
      ]
     },
     "execution_count": 11,
     "metadata": {},
     "output_type": "execute_result"
    }
   ],
   "source": [
    "train.drop('id', axis=1, inplace=True)\n",
    "\n",
    "train.shape, test.shape"
   ]
  },
  {
   "cell_type": "code",
   "execution_count": 12,
   "id": "fafe1133-fe35-499d-a986-8d1c18fcd5f6",
   "metadata": {},
   "outputs": [
    {
     "name": "stdout",
     "output_type": "stream",
     "text": [
      "Brand ['Jansport' 'Under Armour' 'Nike' 'Adidas' 'Puma']\n",
      "Material ['Leather' 'Canvas' 'Nylon' 'Polyester']\n",
      "Size ['Medium' 'Small' 'Large']\n",
      "Compartments [ 7. 10.  2.  8.  1.  5.  3.  6.  4.  9.]\n",
      "Laptop Compartment ['Yes' 'No']\n",
      "Waterproof ['No' 'Yes']\n",
      "Style ['Tote' 'Messenger' 'Backpack']\n",
      "Color ['Black' 'Green' 'Red' 'Blue' 'Gray' 'Pink']\n",
      "Weight Capacity (kg) [11.61172281 27.07853658 16.64375995 ...  9.54895871 12.79080004\n",
      " 16.64173875]\n",
      "Price [112.15875  68.88056  39.1732  ...  99.29504  97.21854  24.70114]\n"
     ]
    }
   ],
   "source": [
    "for col in train:\n",
    "    if train[col].dtype == 'object':\n",
    "        print(col,train[col].unique() )\n",
    "    if train[col].dtype == 'float64':\n",
    "        print(col,train[col].unique() )\n",
    "    "
   ]
  },
  {
   "cell_type": "code",
   "execution_count": 13,
   "id": "1a68ae06-4047-4ada-bb83-a86ffa039012",
   "metadata": {},
   "outputs": [
    {
     "data": {
      "image/png": "[encoded data removed]",
      "text/plain": [
       "<Figure size 1500x1500 with 12 Axes>"
      ]
     },
     "metadata": {},
     "output_type": "display_data"
    }
   ],
   "source": [
    "import matplotlib.pyplot as plt\n",
    "import seaborn as sns\n",
    "\n",
    "# Set Seaborn style\n",
    "sns.set_style(\"whitegrid\")\n",
    "\n",
    "# Create a 5x3 grid of subplots (extra row for boxplots)\n",
    "fig, axes = plt.subplots(5, 3, figsize=(15, 15))\n",
    "\n",
    "# Define features to plot\n",
    "categorical_features = ['Brand', 'Material', 'Size', 'Compartments', 'Laptop Compartment', 'Waterproof', 'Style', 'Color']\n",
    "numerical_features = ['Weight Capacity (kg)', 'Price']\n",
    "\n",
    "# Convert categorical features to string \n",
    "for feature in categorical_features:\n",
    "    train[feature] = train[feature].astype(str)\n",
    "\n",
    "# Plot count plots for categorical features\n",
    "for i, feature in enumerate(categorical_features):\n",
    "    row, col = divmod(i, 3)\n",
    "    sns.countplot(x=train[feature], hue=train[feature], legend=False, ax=axes[row, col], palette=\"viridis\")\n",
    "    axes[row, col].set_title(f\"Distribution of {feature}\")\n",
    "    axes[row, col].tick_params(axis='x', rotation=45, labelsize=10)  # Rotate x-axis labels\n",
    "\n",
    "# Plot histograms and boxplots for numerical features\n",
    "for i, feature in enumerate(numerical_features):\n",
    "    row, col = divmod(len(categorical_features) + i, 3)\n",
    "    \n",
    "    # Histogram\n",
    "    sns.histplot(train[feature], kde=True, ax=axes[row, col], color='orange')\n",
    "    axes[row, col].set_title(f\"Distribution of {feature}\")\n",
    "\n",
    "    # Boxplot below histogram (using extra row)\n",
    "    boxplot_row = row + 1 if row + 1 < 5 else row  # Prevents index error\n",
    "    sns.boxplot(x=train[feature], ax=axes[boxplot_row, col], color='lightblue')\n",
    "    axes[boxplot_row, col].set_title(f\"Boxplot of {feature}\")\n",
    "\n",
    "# Hide any empty subplots\n",
    "for i in range(len(categorical_features) + 2 * len(numerical_features), 15):\n",
    "    row, col = divmod(i, 3)\n",
    "    fig.delaxes(axes[row, col])\n",
    "\n",
    "# Adjust layout for better spacing\n",
    "plt.tight_layout()\n",
    "plt.show()"
   ]
  },
  {
   "cell_type": "code",
   "execution_count": 14,
   "id": "518f08de-b44d-4f2a-86d6-f12aab9ca9ab",
   "metadata": {},
   "outputs": [
    {
     "name": "stdout",
     "output_type": "stream",
     "text": [
      "<class 'pandas.core.frame.DataFrame'>\n",
      "Index: 3288503 entries, 0 to 3341816\n",
      "Data columns (total 10 columns):\n",
      " #   Column                Dtype  \n",
      "---  ------                -----  \n",
      " 0   Brand                 object \n",
      " 1   Material              object \n",
      " 2   Size                  object \n",
      " 3   Compartments          object \n",
      " 4   Laptop Compartment    object \n",
      " 5   Waterproof            object \n",
      " 6   Style                 object \n",
      " 7   Color                 object \n",
      " 8   Weight Capacity (kg)  float64\n",
      " 9   Price                 float64\n",
      "dtypes: float64(2), object(8)\n",
      "memory usage: 276.0+ MB\n"
     ]
    }
   ],
   "source": [
    "train.info()"
   ]
  },
  {
   "cell_type": "code",
   "execution_count": 15,
   "id": "54659ed6-af10-4c2c-8ea1-db9051169fb8",
   "metadata": {},
   "outputs": [
    {
     "name": "stdout",
     "output_type": "stream",
     "text": [
      "<class 'pandas.core.frame.DataFrame'>\n",
      "RangeIndex: 200000 entries, 0 to 199999\n",
      "Data columns (total 2 columns):\n",
      " #   Column  Non-Null Count   Dtype  \n",
      "---  ------  --------------   -----  \n",
      " 0   id      200000 non-null  int64  \n",
      " 1   Price   200000 non-null  float64\n",
      "dtypes: float64(1), int64(1)\n",
      "memory usage: 3.1 MB\n"
     ]
    }
   ],
   "source": [
    "submission.info()"
   ]
  },
  {
   "cell_type": "code",
   "execution_count": 16,
   "id": "b2479d33-f250-4368-adb9-05df84d3e93f",
   "metadata": {},
   "outputs": [
    {
     "name": "stdout",
     "output_type": "stream",
     "text": [
      "<class 'pandas.core.frame.DataFrame'>\n",
      "RangeIndex: 200000 entries, 0 to 199999\n",
      "Data columns (total 10 columns):\n",
      " #   Column                Non-Null Count   Dtype  \n",
      "---  ------                --------------   -----  \n",
      " 0   id                    200000 non-null  int64  \n",
      " 1   Brand                 193773 non-null  object \n",
      " 2   Material              194387 non-null  object \n",
      " 3   Size                  195619 non-null  object \n",
      " 4   Compartments          200000 non-null  float64\n",
      " 5   Laptop Compartment    195038 non-null  object \n",
      " 6   Waterproof            195189 non-null  object \n",
      " 7   Style                 194847 non-null  object \n",
      " 8   Color                 193215 non-null  object \n",
      " 9   Weight Capacity (kg)  199923 non-null  float64\n",
      "dtypes: float64(2), int64(1), object(7)\n",
      "memory usage: 15.3+ MB\n"
     ]
    }
   ],
   "source": [
    "test.info()"
   ]
  },
  {
   "cell_type": "code",
   "execution_count": 17,
   "id": "e3988e63-eb80-4271-93b0-cef9346abe54",
   "metadata": {},
   "outputs": [
    {
     "data": {
      "text/plain": [
       "id                         0\n",
       "Brand                   6227\n",
       "Material                5613\n",
       "Size                    4381\n",
       "Compartments               0\n",
       "Laptop Compartment      4962\n",
       "Waterproof              4811\n",
       "Style                   5153\n",
       "Color                   6785\n",
       "Weight Capacity (kg)      77\n",
       "dtype: int64"
      ]
     },
     "execution_count": 17,
     "metadata": {},
     "output_type": "execute_result"
    }
   ],
   "source": [
    "test.isna().sum()"
   ]
  },
  {
   "cell_type": "markdown",
   "id": "1ae647d7-3f55-4edb-9a88-954551468568",
   "metadata": {},
   "source": [
    "# 2. Feature Engineering"
   ]
  },
  {
   "cell_type": "code",
   "execution_count": 19,
   "id": "6a494a2a-455e-419a-b3f2-e87443f3f939",
   "metadata": {},
   "outputs": [
    {
     "data": {
      "text/plain": [
       "0"
      ]
     },
     "execution_count": 19,
     "metadata": {},
     "output_type": "execute_result"
    }
   ],
   "source": [
    "for col in test:\n",
    "    if test[col].dtype == 'object':\n",
    "        test[col] = test[col].fillna('not listed')\n",
    "    if test[col].dtype == 'int' or test[col].dtype == 'float':\n",
    "        test[col] = test[col].fillna(-1)\n",
    "\n",
    "test.isna().sum().sum()"
   ]
  },
  {
   "cell_type": "code",
   "execution_count": 28,
   "id": "bf717afa-230c-4dff-b039-b84b06b944fe",
   "metadata": {},
   "outputs": [],
   "source": [
    "enc = OrdinalEncoder(handle_unknown='use_encoded_value', unknown_value=-1)\n",
    "\n",
    "for col in train:\n",
    "    if train[col].dtype == 'object':\n",
    "        train[col] = enc.fit_transform(train[col].values.reshape(-1,1))\n",
    "        test[col] = enc.transform(test[col].values.reshape(-1,1))"
   ]
  },
  {
   "cell_type": "code",
   "execution_count": 32,
   "id": "296576a3-ed1c-421a-b997-e1402e77b9e7",
   "metadata": {},
   "outputs": [
    {
     "name": "stdout",
     "output_type": "stream",
     "text": [
      "<class 'pandas.core.frame.DataFrame'>\n",
      "Index: 3288503 entries, 0 to 3341816\n",
      "Data columns (total 10 columns):\n",
      " #   Column                Dtype  \n",
      "---  ------                -----  \n",
      " 0   Brand                 float64\n",
      " 1   Material              float64\n",
      " 2   Size                  float64\n",
      " 3   Compartments          float64\n",
      " 4   Laptop Compartment    float64\n",
      " 5   Waterproof            float64\n",
      " 6   Style                 float64\n",
      " 7   Color                 float64\n",
      " 8   Weight Capacity (kg)  float64\n",
      " 9   Price                 float64\n",
      "dtypes: float64(10)\n",
      "memory usage: 276.0 MB\n"
     ]
    }
   ],
   "source": [
    "train.info()"
   ]
  },
  {
   "cell_type": "code",
   "execution_count": 34,
   "id": "5a67d576-5122-4081-8c78-2aba8a62e5be",
   "metadata": {},
   "outputs": [
    {
     "name": "stdout",
     "output_type": "stream",
     "text": [
      "Brand [1. 4. 2. 0. 3.]\n",
      "Material [1. 0. 2. 3.]\n",
      "Size [1. 2. 0.]\n",
      "Compartments [7. 1. 2. 8. 0. 5. 3. 6. 4. 9.]\n",
      "Laptop Compartment [1. 0.]\n",
      "Waterproof [0. 1.]\n",
      "Style [2. 1. 0.]\n",
      "Color [0. 3. 5. 1. 2. 4.]\n",
      "Weight Capacity (kg) [11.61172281 27.07853658 16.64375995 ...  9.54895871 12.79080004\n",
      " 16.64173875]\n",
      "Price [112.15875  68.88056  39.1732  ...  99.29504  97.21854  24.70114]\n"
     ]
    }
   ],
   "source": [
    "for col in train:\n",
    "    if train[col].dtype == 'float64':\n",
    "        print(col,train[col].unique() )"
   ]
  },
  {
   "cell_type": "code",
   "execution_count": 36,
   "id": "6296493c-57ee-40ed-b8cf-94d372df6626",
   "metadata": {},
   "outputs": [
    {
     "name": "stdout",
     "output_type": "stream",
     "text": [
      "<class 'pandas.core.frame.DataFrame'>\n",
      "RangeIndex: 200000 entries, 0 to 199999\n",
      "Data columns (total 10 columns):\n",
      " #   Column                Non-Null Count   Dtype  \n",
      "---  ------                --------------   -----  \n",
      " 0   id                    200000 non-null  int64  \n",
      " 1   Brand                 200000 non-null  float64\n",
      " 2   Material              200000 non-null  float64\n",
      " 3   Size                  200000 non-null  float64\n",
      " 4   Compartments          200000 non-null  float64\n",
      " 5   Laptop Compartment    200000 non-null  float64\n",
      " 6   Waterproof            200000 non-null  float64\n",
      " 7   Style                 200000 non-null  float64\n",
      " 8   Color                 200000 non-null  float64\n",
      " 9   Weight Capacity (kg)  200000 non-null  float64\n",
      "dtypes: float64(9), int64(1)\n",
      "memory usage: 15.3 MB\n"
     ]
    }
   ],
   "source": [
    "test.info()"
   ]
  },
  {
   "cell_type": "markdown",
   "id": "2065552f-7a3c-48b8-b4be-d6b75cde1fcb",
   "metadata": {},
   "source": [
    "## Reduce Data Size with Efficient Data Types"
   ]
  },
  {
   "cell_type": "markdown",
   "id": "f1de78f4-f11a-49f6-a7da-331759a9c15e",
   "metadata": {},
   "source": [
    "### ✅ Effect: Reduces memory usage by ~30-50%, improving training speed."
   ]
  },
  {
   "cell_type": "code",
   "execution_count": 38,
   "id": "7aeee669-7c2d-4fab-8d89-83645f95a3aa",
   "metadata": {},
   "outputs": [],
   "source": [
    "# Get common columns between train and test to avoid KeyError\n",
    "common_cols = list(set(train.columns) & set(test.columns))\n",
    "\n",
    "# Convert float64 to float32 (only for common columns)\n",
    "for col in train.select_dtypes(include=['float64']).columns:\n",
    "    if col in common_cols:  # Only modify columns that exist in both datasets\n",
    "        test[col] = test[col].astype('float32')\n",
    "    train[col] = train[col].astype('float32')\n",
    "\n",
    "# Convert int64 to int32 (except 'id')\n",
    "for col in train.select_dtypes(include=['int64']).columns:\n",
    "    if col != 'id' and col in common_cols:\n",
    "        test[col] = test[col].astype('int32')\n",
    "    if col != 'id':  \n",
    "        train[col] = train[col].astype('int32')"
   ]
  },
  {
   "cell_type": "code",
   "execution_count": 40,
   "id": "2d647e29-669c-4913-ae2f-19f7bef7e01f",
   "metadata": {},
   "outputs": [
    {
     "data": {
      "text/plain": [
       "((2630802, 9), (2630802,), (657701, 9), (657701,))"
      ]
     },
     "execution_count": 40,
     "metadata": {},
     "output_type": "execute_result"
    }
   ],
   "source": [
    "X = train.drop(columns=['Price'])  # Drop target column\n",
    "y = train['Price']  # Target variable\n",
    "\n",
    "# Split the dataset into train and test sets\n",
    "X_train, X_test, y_train, y_test = train_test_split(X, y, test_size=0.2, random_state=42)\n",
    "\n",
    "# Check shapes (remove X_val and y_val)\n",
    "X_train.shape, y_train.shape, X_test.shape, y_test.shape"
   ]
  },
  {
   "cell_type": "code",
   "execution_count": 42,
   "id": "2b3bb111-dfd4-4e96-bf7a-f83f6e6a4cc7",
   "metadata": {},
   "outputs": [
    {
     "name": "stdout",
     "output_type": "stream",
     "text": [
      "Unique values in y_train: [ 15.       15.00634  15.01818 ... 149.99255 149.99422 150.     ]\n",
      "Data type of y_train: float32\n"
     ]
    }
   ],
   "source": [
    "print(\"Unique values in y_train:\", np.unique(y_train))\n",
    "print(\"Data type of y_train:\", y_train.dtype)"
   ]
  },
  {
   "cell_type": "code",
   "execution_count": 44,
   "id": "a2491f78-3474-4156-8b57-24b596e2b67c",
   "metadata": {},
   "outputs": [
    {
     "name": "stdout",
     "output_type": "stream",
     "text": [
      "<class 'pandas.core.frame.DataFrame'>\n",
      "Index: 3288503 entries, 0 to 3341816\n",
      "Data columns (total 10 columns):\n",
      " #   Column                Dtype  \n",
      "---  ------                -----  \n",
      " 0   Brand                 float32\n",
      " 1   Material              float32\n",
      " 2   Size                  float32\n",
      " 3   Compartments          float32\n",
      " 4   Laptop Compartment    float32\n",
      " 5   Waterproof            float32\n",
      " 6   Style                 float32\n",
      " 7   Color                 float32\n",
      " 8   Weight Capacity (kg)  float32\n",
      " 9   Price                 float32\n",
      "dtypes: float32(10)\n",
      "memory usage: 150.5 MB\n"
     ]
    }
   ],
   "source": [
    "train.info()"
   ]
  },
  {
   "cell_type": "markdown",
   "id": "78e7e02f-7d57-4a8c-a1e2-4221a9537329",
   "metadata": {},
   "source": [
    "# 3. Ensemble Modeling"
   ]
  },
  {
   "cell_type": "code",
   "execution_count": 59,
   "id": "1051dc07-aeb3-4c77-8af0-53ca66cbc2ea",
   "metadata": {},
   "outputs": [
    {
     "name": "stdout",
     "output_type": "stream",
     "text": [
      "[LightGBM] [Warning] Found whitespace in feature_names, replace with underlines\n",
      "[LightGBM] [Info] Auto-choosing row-wise multi-threading, the overhead of testing was 0.032449 seconds.\n",
      "You can set `force_row_wise=true` to remove the overhead.\n",
      "And if memory is not enough, you can set `force_col_wise=true`.\n",
      "[LightGBM] [Info] Total Bins 290\n",
      "[LightGBM] [Info] Number of data points in the train set: 2630802, number of used features: 9\n",
      "[LightGBM] [Info] Start training from score 81.478594\n",
      "               Model          MSE       RMSE  R² Score  Run Time (s)\n",
      "5           LightGBM  1503.120335  38.770096  0.002029      7.797902\n",
      "3  Gradient Boosting  1503.322984  38.772709  0.001894    320.225307\n",
      "4            XGBoost  1504.049927  38.782082  0.001411      7.993886\n",
      "6           AdaBoost  1504.943684  38.793604  0.000818     37.003004\n",
      "0  Linear Regression  1505.548950  38.801403  0.000416      0.383062\n",
      "1      Random Forest  1629.715749  40.369738 -0.082022   1865.625134\n",
      "2      Decision Tree  3078.011132  55.479826 -1.043594     27.773787\n"
     ]
    }
   ],
   "source": [
    "import time\n",
    "import numpy as np\n",
    "import pandas as pd\n",
    "from sklearn.metrics import mean_squared_error, r2_score\n",
    "from sklearn.linear_model import LinearRegression\n",
    "from sklearn.ensemble import RandomForestRegressor, GradientBoostingRegressor, AdaBoostRegressor\n",
    "from sklearn.tree import DecisionTreeRegressor\n",
    "import xgboost as xgb\n",
    "import lightgbm as lgb\n",
    "\n",
    "# Define models\n",
    "models = {\n",
    "    \"Linear Regression\": LinearRegression(),\n",
    "    \"Random Forest\": RandomForestRegressor(n_estimators=100, random_state=42),\n",
    "    \"Decision Tree\": DecisionTreeRegressor(random_state=42),\n",
    "    \"Gradient Boosting\": GradientBoostingRegressor(n_estimators=100, random_state=42),\n",
    "    \"XGBoost\": xgb.XGBRegressor(objective='reg:squarederror', n_estimators=100, random_state=42),\n",
    "    \"LightGBM\": lgb.LGBMRegressor(n_estimators=100, random_state=42),\n",
    "    \"AdaBoost\": AdaBoostRegressor(n_estimators=100, random_state=42)\n",
    "}\n",
    "\n",
    "# Store results\n",
    "results = []\n",
    "\n",
    "for name, model in models.items():\n",
    "    start_time = time.time()  # Start time tracking\n",
    "    model.fit(X_train, y_train)  # Train model\n",
    "    y_pred = model.predict(X_test)  # Make predictions\n",
    "    \n",
    "    mse = mean_squared_error(y_test, y_pred)  # Compute MSE\n",
    "    rmse = np.sqrt(mse)  # Compute RMSE\n",
    "    r2 = r2_score(y_test, y_pred)  # Compute R² score (accuracy)\n",
    "    run_time = time.time() - start_time  # Calculate runtime\n",
    "    \n",
    "    # Store results\n",
    "    results.append([name, mse, rmse, r2, run_time])\n",
    "\n",
    "# Convert results to DataFrame\n",
    "df_results = pd.DataFrame(results, columns=[\"Model\", \"MSE\", \"RMSE\", \"R² Score\", \"Run Time (s)\"])\n",
    "df_results.sort_values(by=\"MSE\", ascending=True, inplace=True)  # Sort by best MSE\n",
    "\n",
    "# Print results\n",
    "print(df_results)"
   ]
  },
  {
   "cell_type": "markdown",
   "id": "a7066688-eb05-4edc-a1c5-a7c29330a710",
   "metadata": {},
   "source": [
    "# 4. Hyperparameter Tuning"
   ]
  },
  {
   "cell_type": "markdown",
   "id": "3ab1bbf0-28d5-42d5-9dcc-b98b4a325f9a",
   "metadata": {},
   "source": [
    "## LightGBM Model"
   ]
  },
  {
   "cell_type": "code",
   "execution_count": 52,
   "id": "f81c4a25-99a7-4a15-adec-ae8ba0f6259d",
   "metadata": {},
   "outputs": [
    {
     "name": "stdout",
     "output_type": "stream",
     "text": [
      "            Model          MSE       RMSE  R² Score  Run Time (s)\n",
      "0  Tuned LightGBM  1502.989346  38.768407  0.002116     20.669795\n"
     ]
    }
   ],
   "source": [
    "import time\n",
    "import numpy as np\n",
    "import pandas as pd\n",
    "from sklearn.model_selection import RandomizedSearchCV, train_test_split\n",
    "from sklearn.metrics import mean_squared_error, r2_score\n",
    "import lightgbm as lgb\n",
    "\n",
    "# Split dataset (assuming X, y are defined)\n",
    "X_train, X_test, y_train, y_test = train_test_split(X, y, test_size=0.2, random_state=42)\n",
    "\n",
    "# Hyperparameter tuning for LightGBM\n",
    "lgb_params = {\n",
    "    'learning_rate': [0.01, 0.05, 0.1, 0.2],\n",
    "    'n_estimators': [100, 200, 300, 500],\n",
    "    'num_leaves': [20, 31, 40, 50],\n",
    "    'max_depth': [-1, 5, 10, 15],\n",
    "    'min_child_samples': [10, 20, 30],\n",
    "    'subsample': [0.7, 0.8, 0.9, 1.0],\n",
    "    'colsample_bytree': [0.7, 0.8, 0.9, 1.0]\n",
    "}\n",
    "\n",
    "lgb_model = lgb.LGBMRegressor(random_state=42)\n",
    "lgb_search = RandomizedSearchCV(lgb_model, lgb_params, cv=3, n_iter=10, scoring='neg_mean_squared_error', n_jobs=-1, random_state=42)\n",
    "lgb_search.fit(X_train, y_train)\n",
    "best_lgb = lgb_search.best_estimator_\n",
    "\n",
    "# Train best LightGBM model\n",
    "start_time = time.time()\n",
    "best_lgb.fit(X_train, y_train)\n",
    "y_pred = best_lgb.predict(X_test)\n",
    "\n",
    "# Evaluate Performance\n",
    "mse = mean_squared_error(y_test, y_pred)\n",
    "rmse = np.sqrt(mse)\n",
    "r2 = r2_score(y_test, y_pred)\n",
    "runtime = time.time() - start_time\n",
    "\n",
    "# Results\n",
    "results = pd.DataFrame([[\"Tuned LightGBM\", mse, rmse, r2, runtime]], \n",
    "                        columns=[\"Model\", \"MSE\", \"RMSE\", \"R² Score\", \"Run Time (s)\"])\n",
    "print(results)"
   ]
  },
  {
   "cell_type": "markdown",
   "id": "86e444c7-2450-4897-a93d-6b180155787d",
   "metadata": {
    "jp-MarkdownHeadingCollapsed": true
   },
   "source": [
    "# 5. Final Predictions on Test Data"
   ]
  },
  {
   "cell_type": "code",
   "execution_count": 68,
   "id": "6517b99e-b103-4fcc-9bca-205258978247",
   "metadata": {},
   "outputs": [
    {
     "name": "stdout",
     "output_type": "stream",
     "text": [
      "Submission saved successfully!\n"
     ]
    }
   ],
   "source": [
    "# Use the best LightGBM model to predict the test data\n",
    "best_model = best_lgb  # Using the best LightGBM model\n",
    "\n",
    "# Check if 'id' exists in the test dataset before dropping\n",
    "if 'id' in test.columns:\n",
    "    X_test_final = test.drop(['id'], axis=1)\n",
    "else:\n",
    "    X_test_final = test.copy()  # If 'id' is not present, use the test data as is\n",
    "\n",
    "# Make predictions\n",
    "test_preds = best_model.predict(X_test_final)\n",
    "\n",
    "# If 'id' is missing, create a new index for submission\n",
    "if 'id' in test.columns:\n",
    "    submission = pd.DataFrame({'id': test['id'], 'Price': test_preds})\n",
    "else:\n",
    "    submission = pd.DataFrame({'id': range(len(test_preds)), 'Price': test_preds})  # Create sequential IDs\n",
    "\n",
    "# Save predictions to CSV\n",
    "submission.to_csv('submission.csv', index=False)\n",
    "print(\"Submission saved successfully!\")"
   ]
  },
  {
   "cell_type": "markdown",
   "id": "ab8e3d2a-c6b4-4234-a525-769fcb82b08c",
   "metadata": {},
   "source": [
    "# 6.Setup for sysytem"
   ]
  },
  {
   "cell_type": "code",
   "execution_count": 54,
   "id": "c934fe9c-3c1f-4eb9-b5ed-8a1642877d69",
   "metadata": {},
   "outputs": [
    {
     "data": {
      "text/html": [
       "<div>\n",
       "<style scoped>\n",
       "    .dataframe tbody tr th:only-of-type {\n",
       "        vertical-align: middle;\n",
       "    }\n",
       "\n",
       "    .dataframe tbody tr th {\n",
       "        vertical-align: top;\n",
       "    }\n",
       "\n",
       "    .dataframe thead th {\n",
       "        text-align: right;\n",
       "    }\n",
       "</style>\n",
       "<table border=\"1\" class=\"dataframe\">\n",
       "  <thead>\n",
       "    <tr style=\"text-align: right;\">\n",
       "      <th></th>\n",
       "      <th>id</th>\n",
       "      <th>Brand</th>\n",
       "      <th>Material</th>\n",
       "      <th>Size</th>\n",
       "      <th>Compartments</th>\n",
       "      <th>Laptop Compartment</th>\n",
       "      <th>Waterproof</th>\n",
       "      <th>Style</th>\n",
       "      <th>Color</th>\n",
       "      <th>Weight Capacity (kg)</th>\n",
       "    </tr>\n",
       "  </thead>\n",
       "  <tbody>\n",
       "    <tr>\n",
       "      <th>0</th>\n",
       "      <td>300000</td>\n",
       "      <td>3.0</td>\n",
       "      <td>1.0</td>\n",
       "      <td>2.0</td>\n",
       "      <td>2.0</td>\n",
       "      <td>0.0</td>\n",
       "      <td>0.0</td>\n",
       "      <td>2.0</td>\n",
       "      <td>3.0</td>\n",
       "      <td>20.671146</td>\n",
       "    </tr>\n",
       "    <tr>\n",
       "      <th>1</th>\n",
       "      <td>300001</td>\n",
       "      <td>2.0</td>\n",
       "      <td>0.0</td>\n",
       "      <td>1.0</td>\n",
       "      <td>7.0</td>\n",
       "      <td>0.0</td>\n",
       "      <td>1.0</td>\n",
       "      <td>0.0</td>\n",
       "      <td>3.0</td>\n",
       "      <td>13.564105</td>\n",
       "    </tr>\n",
       "    <tr>\n",
       "      <th>2</th>\n",
       "      <td>300002</td>\n",
       "      <td>0.0</td>\n",
       "      <td>0.0</td>\n",
       "      <td>0.0</td>\n",
       "      <td>9.0</td>\n",
       "      <td>0.0</td>\n",
       "      <td>1.0</td>\n",
       "      <td>1.0</td>\n",
       "      <td>1.0</td>\n",
       "      <td>11.809799</td>\n",
       "    </tr>\n",
       "    <tr>\n",
       "      <th>3</th>\n",
       "      <td>300003</td>\n",
       "      <td>0.0</td>\n",
       "      <td>2.0</td>\n",
       "      <td>0.0</td>\n",
       "      <td>1.0</td>\n",
       "      <td>1.0</td>\n",
       "      <td>0.0</td>\n",
       "      <td>1.0</td>\n",
       "      <td>3.0</td>\n",
       "      <td>18.477036</td>\n",
       "    </tr>\n",
       "    <tr>\n",
       "      <th>4</th>\n",
       "      <td>300004</td>\n",
       "      <td>-1.0</td>\n",
       "      <td>2.0</td>\n",
       "      <td>0.0</td>\n",
       "      <td>2.0</td>\n",
       "      <td>1.0</td>\n",
       "      <td>1.0</td>\n",
       "      <td>2.0</td>\n",
       "      <td>0.0</td>\n",
       "      <td>9.907953</td>\n",
       "    </tr>\n",
       "  </tbody>\n",
       "</table>\n",
       "</div>"
      ],
      "text/plain": [
       "       id  Brand  Material  Size  Compartments  Laptop Compartment  \\\n",
       "0  300000    3.0       1.0   2.0           2.0                 0.0   \n",
       "1  300001    2.0       0.0   1.0           7.0                 0.0   \n",
       "2  300002    0.0       0.0   0.0           9.0                 0.0   \n",
       "3  300003    0.0       2.0   0.0           1.0                 1.0   \n",
       "4  300004   -1.0       2.0   0.0           2.0                 1.0   \n",
       "\n",
       "   Waterproof  Style  Color  Weight Capacity (kg)  \n",
       "0         0.0    2.0    3.0             20.671146  \n",
       "1         1.0    0.0    3.0             13.564105  \n",
       "2         1.0    1.0    1.0             11.809799  \n",
       "3         0.0    1.0    3.0             18.477036  \n",
       "4         1.0    2.0    0.0              9.907953  "
      ]
     },
     "execution_count": 54,
     "metadata": {},
     "output_type": "execute_result"
    }
   ],
   "source": [
    "test.head()"
   ]
  },
  {
   "cell_type": "code",
   "execution_count": 56,
   "id": "226d87c5-8b04-443a-b53c-810febac4d3a",
   "metadata": {},
   "outputs": [
    {
     "data": {
      "text/plain": [
       "Index(['Brand', 'Material', 'Size', 'Compartments', 'Laptop Compartment',\n",
       "       'Waterproof', 'Style', 'Color', 'Weight Capacity (kg)', 'Price'],\n",
       "      dtype='object')"
      ]
     },
     "execution_count": 56,
     "metadata": {},
     "output_type": "execute_result"
    }
   ],
   "source": [
    "train.columns"
   ]
  },
  {
   "cell_type": "code",
   "execution_count": 58,
   "id": "4532b4c9-dfe8-46b3-8729-1c1e9f1b198f",
   "metadata": {},
   "outputs": [
    {
     "name": "stdout",
     "output_type": "stream",
     "text": [
      "<class 'pandas.core.frame.DataFrame'>\n",
      "Index: 3288503 entries, 0 to 3341816\n",
      "Data columns (total 10 columns):\n",
      " #   Column                Dtype  \n",
      "---  ------                -----  \n",
      " 0   Brand                 float32\n",
      " 1   Material              float32\n",
      " 2   Size                  float32\n",
      " 3   Compartments          float32\n",
      " 4   Laptop Compartment    float32\n",
      " 5   Waterproof            float32\n",
      " 6   Style                 float32\n",
      " 7   Color                 float32\n",
      " 8   Weight Capacity (kg)  float32\n",
      " 9   Price                 float32\n",
      "dtypes: float32(10)\n",
      "memory usage: 150.5 MB\n"
     ]
    }
   ],
   "source": [
    "train.info()"
   ]
  },
  {
   "cell_type": "code",
   "execution_count": 60,
   "id": "974892b5-beb8-45c4-8c8e-ff89174f1311",
   "metadata": {},
   "outputs": [
    {
     "name": "stdout",
     "output_type": "stream",
     "text": [
      "Brand [1. 4. 2. 0. 3.]\n",
      "Material [1. 0. 2. 3.]\n",
      "Size [1. 2. 0.]\n",
      "Compartments [7. 1. 2. 8. 0. 5. 3. 6. 4. 9.]\n",
      "Laptop Compartment [1. 0.]\n",
      "Waterproof [0. 1.]\n",
      "Style [2. 1. 0.]\n",
      "Color [0. 3. 5. 1. 2. 4.]\n",
      "Weight Capacity (kg) [11.611723 27.078537 16.64376  ... 14.534673 17.136541 16.641739]\n",
      "Price [112.15875  68.88056  39.1732  ...  99.29504  97.21854  24.70114]\n"
     ]
    }
   ],
   "source": [
    "for col in train:\n",
    "    if train[col].dtype == 'float32':\n",
    "        print(col,train[col].unique() )"
   ]
  },
  {
   "cell_type": "code",
   "execution_count": 62,
   "id": "9ebfd098-8a6d-4b24-8d7f-a331bf44b180",
   "metadata": {},
   "outputs": [],
   "source": [
    "def recommendation(Brand, Material, Size, Compartments, Laptop_Compartment, Waterproof, Style, Color, Weight_Capacity_kg):\n",
    "    features = np.array([[Brand, Material, Size, Compartments, Laptop_Compartment, Waterproof, Style, Color, Weight_Capacity_kg]])\n",
    "    prediction = best_model.predict(features).reshape(1,-1)\n",
    "    return prediction[0]"
   ]
  },
  {
   "cell_type": "code",
   "execution_count": 64,
   "id": "c2b9d021-e335-434b-a3ee-9a29eb6810ea",
   "metadata": {},
   "outputs": [
    {
     "data": {
      "text/html": [
       "<div>\n",
       "<style scoped>\n",
       "    .dataframe tbody tr th:only-of-type {\n",
       "        vertical-align: middle;\n",
       "    }\n",
       "\n",
       "    .dataframe tbody tr th {\n",
       "        vertical-align: top;\n",
       "    }\n",
       "\n",
       "    .dataframe thead th {\n",
       "        text-align: right;\n",
       "    }\n",
       "</style>\n",
       "<table border=\"1\" class=\"dataframe\">\n",
       "  <thead>\n",
       "    <tr style=\"text-align: right;\">\n",
       "      <th></th>\n",
       "      <th>Brand</th>\n",
       "      <th>Material</th>\n",
       "      <th>Size</th>\n",
       "      <th>Compartments</th>\n",
       "      <th>Laptop Compartment</th>\n",
       "      <th>Waterproof</th>\n",
       "      <th>Style</th>\n",
       "      <th>Color</th>\n",
       "      <th>Weight Capacity (kg)</th>\n",
       "      <th>Price</th>\n",
       "    </tr>\n",
       "  </thead>\n",
       "  <tbody>\n",
       "    <tr>\n",
       "      <th>0</th>\n",
       "      <td>1.0</td>\n",
       "      <td>1.0</td>\n",
       "      <td>1.0</td>\n",
       "      <td>7.0</td>\n",
       "      <td>1.0</td>\n",
       "      <td>0.0</td>\n",
       "      <td>2.0</td>\n",
       "      <td>0.0</td>\n",
       "      <td>11.611723</td>\n",
       "      <td>112.158752</td>\n",
       "    </tr>\n",
       "    <tr>\n",
       "      <th>1</th>\n",
       "      <td>1.0</td>\n",
       "      <td>0.0</td>\n",
       "      <td>2.0</td>\n",
       "      <td>1.0</td>\n",
       "      <td>1.0</td>\n",
       "      <td>1.0</td>\n",
       "      <td>1.0</td>\n",
       "      <td>3.0</td>\n",
       "      <td>27.078537</td>\n",
       "      <td>68.880562</td>\n",
       "    </tr>\n",
       "    <tr>\n",
       "      <th>2</th>\n",
       "      <td>4.0</td>\n",
       "      <td>1.0</td>\n",
       "      <td>2.0</td>\n",
       "      <td>2.0</td>\n",
       "      <td>1.0</td>\n",
       "      <td>0.0</td>\n",
       "      <td>1.0</td>\n",
       "      <td>5.0</td>\n",
       "      <td>16.643761</td>\n",
       "      <td>39.173199</td>\n",
       "    </tr>\n",
       "    <tr>\n",
       "      <th>3</th>\n",
       "      <td>2.0</td>\n",
       "      <td>2.0</td>\n",
       "      <td>2.0</td>\n",
       "      <td>8.0</td>\n",
       "      <td>1.0</td>\n",
       "      <td>0.0</td>\n",
       "      <td>1.0</td>\n",
       "      <td>3.0</td>\n",
       "      <td>12.937221</td>\n",
       "      <td>80.607933</td>\n",
       "    </tr>\n",
       "    <tr>\n",
       "      <th>4</th>\n",
       "      <td>0.0</td>\n",
       "      <td>0.0</td>\n",
       "      <td>1.0</td>\n",
       "      <td>0.0</td>\n",
       "      <td>1.0</td>\n",
       "      <td>1.0</td>\n",
       "      <td>1.0</td>\n",
       "      <td>3.0</td>\n",
       "      <td>17.749338</td>\n",
       "      <td>86.023117</td>\n",
       "    </tr>\n",
       "  </tbody>\n",
       "</table>\n",
       "</div>"
      ],
      "text/plain": [
       "   Brand  Material  Size  Compartments  Laptop Compartment  Waterproof  Style  \\\n",
       "0    1.0       1.0   1.0           7.0                 1.0         0.0    2.0   \n",
       "1    1.0       0.0   2.0           1.0                 1.0         1.0    1.0   \n",
       "2    4.0       1.0   2.0           2.0                 1.0         0.0    1.0   \n",
       "3    2.0       2.0   2.0           8.0                 1.0         0.0    1.0   \n",
       "4    0.0       0.0   1.0           0.0                 1.0         1.0    1.0   \n",
       "\n",
       "   Color  Weight Capacity (kg)       Price  \n",
       "0    0.0             11.611723  112.158752  \n",
       "1    3.0             27.078537   68.880562  \n",
       "2    5.0             16.643761   39.173199  \n",
       "3    3.0             12.937221   80.607933  \n",
       "4    3.0             17.749338   86.023117  "
      ]
     },
     "execution_count": 64,
     "metadata": {},
     "output_type": "execute_result"
    }
   ],
   "source": [
    "train.head()"
   ]
  },
  {
   "cell_type": "code",
   "execution_count": 70,
   "id": "c1ae8fcb-4595-4fc1-97eb-dc74cdf0f776",
   "metadata": {},
   "outputs": [],
   "source": [
    "Brand = 1.0\n",
    "Material = 1.0\n",
    "Size = 1.0\n",
    "Compartments = 7.0\t\n",
    "Laptop_Compartment = 1.0\n",
    "Waterproof = 0.0\n",
    "Style = 2.0\n",
    "Color = 0.0\n",
    "Weight_Capacity_kg = 11.611723\t\n",
    "\n",
    "predict= recommendation(Brand, Material, Size, Compartments, Laptop_Compartment, Waterproof, Style, Color, Weight_Capacity_kg)"
   ]
  },
  {
   "cell_type": "code",
   "execution_count": 72,
   "id": "64b6d0fd-938c-47a8-a681-c2145cbbc9d3",
   "metadata": {},
   "outputs": [
    {
     "data": {
      "text/plain": [
       "array([81.09215349])"
      ]
     },
     "execution_count": 72,
     "metadata": {},
     "output_type": "execute_result"
    }
   ],
   "source": [
    "predict"
   ]
  },
  {
   "cell_type": "markdown",
   "id": "f8b88f8b-0093-4478-8a5b-c9c6e85a9b6a",
   "metadata": {},
   "source": [
    "## Pickle Dump"
   ]
  },
  {
   "cell_type": "code",
   "execution_count": 74,
   "id": "a55023cd-5c2a-4370-9a55-006fd2f1d268",
   "metadata": {},
   "outputs": [
    {
     "name": "stdout",
     "output_type": "stream",
     "text": [
      "Model and encoder saved successfully!\n"
     ]
    }
   ],
   "source": [
    "import pickle\n",
    "\n",
    "# ✅ Save the trained model\n",
    "with open(\"LGBM_model.pkl\", \"wb\") as model_file:\n",
    "    pickle.dump(best_model, model_file)\n",
    "\n",
    "# Save the encoder\n",
    "with open('enc_ordinal_encoder.pkl', 'wb') as f:\n",
    "    pickle.dump(enc, f)\n",
    "\n",
    "print(\"Model and encoder saved successfully!\")"
   ]
  }
 ],
 "metadata": {
  "kernelspec": {
   "display_name": "Python 3 (ipykernel)",
   "language": "python",
   "name": "python3"
  },
  "language_info": {
   "codemirror_mode": {
    "name": "ipython",
    "version": 3
   },
   "file_extension": ".py",
   "mimetype": "text/x-python",
   "name": "python",
   "nbconvert_exporter": "python",
   "pygments_lexer": "ipython3",
   "version": "3.12.4"
  }
 },
 "nbformat": 4,
 "nbformat_minor": 5
}
